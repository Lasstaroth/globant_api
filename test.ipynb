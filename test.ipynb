{
 "cells": [
  {
   "cell_type": "code",
   "execution_count": 1,
   "metadata": {},
   "outputs": [
    {
     "name": "stdout",
     "output_type": "stream",
     "text": [
      "postgres\n",
      "200 {'message': 'API is running'}\n"
     ]
    }
   ],
   "source": [
    "import os\n",
    "import requests\n",
    "import pandas as pd\n",
    "\n",
    "ENV = os.environ.get(\"ENV\", \"dev\")\n",
    "if ENV == \"test\":\n",
    "    DB_URL = \"sqlite\"\n",
    "else:\n",
    "    DB_URL = \"postgres\"\n",
    "\n",
    "print(DB_URL)\n",
    "\n",
    "# URL base de la API\n",
    "BASE_URL = \"http://localhost:8000\" \n",
    "\n",
    "response = requests.get(f\"{BASE_URL}/\")\n",
    "print(response.status_code, response.json())"
   ]
  },
  {
   "cell_type": "code",
   "execution_count": 2,
   "metadata": {},
   "outputs": [
    {
     "name": "stdout",
     "output_type": "stream",
     "text": [
      "¿Hay NaN en 'id'?              False\n",
      "¿Hay NaN en 'department_id'?   True\n",
      "¿Hay NaN en 'job_id'?          True\n",
      "¿Hay NaN en 'datetime'?        True\n",
      "¿Hay NaN en 'name'?            True\n",
      "\n",
      "\n",
      "Cantidad de NaNs por columna: \n",
      "id                0\n",
      "name             19\n",
      "datetime         14\n",
      "department_id    21\n",
      "job_id           16\n",
      "dtype: int64\n",
      "\n",
      "Total de valores NaN en el DataFrame: 70\n",
      "\n",
      "Filas antes: 1999, Filas después: 1929, Filas eliminadas: 70\n",
      "\n",
      "¿Hay NaN en 'id'?              False\n",
      "¿Hay NaN en 'department_id'?   False\n",
      "¿Hay NaN en 'job_id'?          False\n",
      "¿Hay NaN en 'datetime'?        False\n",
      "¿Hay NaN en 'name'?            False\n"
     ]
    }
   ],
   "source": [
    "df = pd.read_csv(\"data/hired_employees.csv\", names=[\"id\",\"name\",\"datetime\",\"department_id\",\"job_id\"], header=None, parse_dates=[\"datetime\"], na_values=[\"NaN\",\"N/A\",\"null\"])\n",
    "# df = pd.read_csv(\"hired_employees.csv\", names=[\"id\",\"name\",\"datetime\",\"department_id\",\"job_id\"], header=None)\n",
    "\n",
    "print(\"¿Hay NaN en 'id'?             \", df[\"id\"].isna().any())\n",
    "print(\"¿Hay NaN en 'department_id'?  \", df[\"department_id\"].isna().any())\n",
    "print(\"¿Hay NaN en 'job_id'?         \", df[\"job_id\"].isna().any())\n",
    "print(\"¿Hay NaN en 'datetime'?       \", df[\"datetime\"].isna().any())\n",
    "print(\"¿Hay NaN en 'name'?           \", df[\"name\"].isna().any())\n",
    "print(\"\\n\")\n",
    "\n",
    "df[\"datetime\"] = pd.to_datetime(df[\"datetime\"], errors=\"coerce\", utc=True)\n",
    "df[\"datetime\"] = df[\"datetime\"].dt.tz_convert(None)\n",
    "\n",
    "nan_por_columna = df.isna().sum()\n",
    "print(f\"Cantidad de NaNs por columna: \\n{nan_por_columna}\\n\")\n",
    "\n",
    "total_nan = df.isna().sum().sum()\n",
    "print(f\"Total de valores NaN en el DataFrame: {total_nan}\\n\")\n",
    "\n",
    "\n",
    "# # Approach 1: Rellena NaN en 'name'\n",
    "# df[\"name\"] = df[\"name\"].fillna(\"Unknown\")\n",
    "# df[\"job_id\"] = df[\"job_id\"].fillna(0).astype(int)\n",
    "# df[\"department_id\"] = df[\"department_id\"].fillna(0).astype(int)\n",
    "# # Approach 2: Rellena NaN en 'name'\n",
    "# df[\"name\"] = df[\"name\"].where(pd.notnull(df[\"name\"]), \"Unknown\")\n",
    "# df[\"job_id\"] = df[\"job_id\"].where(df[\"job_id\"].notna(), 0).astype(int)\n",
    "# df[\"department_id\"] = df[\"department_id\"].where(df[\"department_id\"].notna(), 0).astype(int)\n",
    "# # Approach 3\n",
    "# df[\"job_id\"] = df[\"job_id\"].where(pd.notnull(df[\"job_id\"]), 0)\n",
    "# df[\"department_id\"] = df[\"department_id\"].where(pd.notnull(df[\"department_id\"]), 0)\n",
    "\n",
    "filas_antes = len(df)\n",
    "df = df.dropna()\n",
    "filas_despues = len(df)\n",
    "filas_eliminadas = filas_antes - filas_despues\n",
    "print(f\"Filas antes: {filas_antes}, Filas después: {filas_despues}, Filas eliminadas: {filas_eliminadas}\\n\")\n",
    "\n",
    "# df\n",
    "print(\"¿Hay NaN en 'id'?             \", df[\"id\"].isna().any())\n",
    "print(\"¿Hay NaN en 'department_id'?  \", df[\"department_id\"].isna().any())\n",
    "print(\"¿Hay NaN en 'job_id'?         \", df[\"job_id\"].isna().any())\n",
    "print(\"¿Hay NaN en 'datetime'?       \", df[\"datetime\"].isna().any())\n",
    "print(\"¿Hay NaN en 'name'?           \", df[\"name\"].isna().any())\n",
    "\n",
    "# # Filtrar registros con valores no numéricos\n",
    "# df_non_numeric_col = df[pd.to_numeric(df['department_id'], errors='coerce').isna()]\n",
    "\n",
    "# df_dict = df.to_dict(orient=\"records\")\n",
    "# print(df_dict)"
   ]
  },
  {
   "cell_type": "code",
   "execution_count": 3,
   "metadata": {},
   "outputs": [
    {
     "name": "stdout",
     "output_type": "stream",
     "text": [
      "\n",
      "✅ Upload CSV Response: 200 {\"message\":\"Jobs uploaded successfully\"}\n"
     ]
    }
   ],
   "source": [
    "file_path = \"data/jobs.csv\"\n",
    "\n",
    "with open(file_path, \"rb\") as file:\n",
    "    files = {\"file\": file}\n",
    "    response = requests.post(f\"{BASE_URL}/upload-jobs\", files=files)\n",
    "\n",
    "print(\"\\n✅ Upload CSV Response:\", response.status_code, response.text)"
   ]
  },
  {
   "cell_type": "code",
   "execution_count": 4,
   "metadata": {},
   "outputs": [
    {
     "name": "stdout",
     "output_type": "stream",
     "text": [
      "\n",
      "✅ Upload CSV Response: 200 {\"message\":\"Departments uploaded successfully\"}\n"
     ]
    }
   ],
   "source": [
    "file_path = \"data/departments.csv\"\n",
    "\n",
    "with open(file_path, \"rb\") as file:\n",
    "    files = {\"file\": file}\n",
    "    response = requests.post(f\"{BASE_URL}/upload-departments\", files=files)\n",
    "\n",
    "print(\"\\n✅ Upload CSV Response:\", response.status_code, response.text)"
   ]
  },
  {
   "cell_type": "code",
   "execution_count": 5,
   "metadata": {},
   "outputs": [
    {
     "name": "stdout",
     "output_type": "stream",
     "text": [
      "\n",
      "✅ Upload CSV Response: 200 {\"message\":\"Employees uploaded successfully\"}\n"
     ]
    }
   ],
   "source": [
    "file_path = \"data/hired_employees.csv\"\n",
    "\n",
    "with open(file_path, \"rb\") as file:\n",
    "    files = {\"file\": file}\n",
    "    response = requests.post(f\"{BASE_URL}/upload-employees-dropna\", files=files)\n",
    "\n",
    "print(\"\\n✅ Upload CSV Response:\", response.status_code, response.text)"
   ]
  },
  {
   "cell_type": "code",
   "execution_count": 6,
   "metadata": {},
   "outputs": [
    {
     "name": "stdout",
     "output_type": "stream",
     "text": [
      "   id                department\n",
      "0   1        Product Management\n",
      "1   2                     Sales\n",
      "2   3  Research and Development\n",
      "3   4      Business Development\n",
      "4   5               Engineering\n"
     ]
    }
   ],
   "source": [
    "response = requests.get(f\"{BASE_URL}/departments\")\n",
    "if response.status_code == 200:\n",
    "    departments = response.json()\n",
    "    # print(\"\\n✅ Departments:\", json.dumps(departments, indent=4))\n",
    "    departments_df = pd.DataFrame(departments)\n",
    "    print(departments_df.head(5))\n",
    "else:\n",
    "    print(f\"Error: {response.status_code}\")"
   ]
  },
  {
   "cell_type": "code",
   "execution_count": 7,
   "metadata": {},
   "outputs": [
    {
     "name": "stdout",
     "output_type": "stream",
     "text": [
      "   id                        job\n",
      "0   1        Marketing Assistant\n",
      "1   2                   VP Sales\n",
      "2   3         Biostatistician IV\n",
      "3   4  Account Representative II\n",
      "4   5               VP Marketing\n"
     ]
    }
   ],
   "source": [
    "response = requests.get(f\"{BASE_URL}/jobs\")\n",
    "if response.status_code == 200:\n",
    "    jobs = response.json()\n",
    "    # print(\"\\n✅ jobs:\", json.dumps(jobs, indent=4))\n",
    "    jobs_df = pd.DataFrame(jobs)\n",
    "    print(jobs_df.head(5))\n",
    "else:\n",
    "    print(f\"Error: {response.status_code}\")"
   ]
  },
  {
   "cell_type": "code",
   "execution_count": 8,
   "metadata": {},
   "outputs": [
    {
     "name": "stdout",
     "output_type": "stream",
     "text": [
      "   department_id  id            name             datetime  job_id\n",
      "0              2   1     Harold Vogt  2021-11-07T02:48:42      96\n",
      "1              5   3     Lyman Hadye  2021-09-01T23:27:38      52\n",
      "2             12   4   Lotti Crowthe  2021-10-01T13:04:21      71\n",
      "3              6   5  Gretna Lording  2021-10-10T22:22:17      80\n",
      "4              6   6  Marlow Antecki  2021-04-23T23:45:42      95\n"
     ]
    }
   ],
   "source": [
    "response = requests.get(f\"{BASE_URL}/employees\")\n",
    "if response.status_code == 200:\n",
    "    employees = response.json()\n",
    "    # print(\"\\n✅ employees:\", json.dumps(employees, indent=4))\n",
    "    employees_df = pd.DataFrame(employees)\n",
    "    print(employees_df.head(5))\n",
    "else:\n",
    "    print(f\"Error: {response.status_code}\")"
   ]
  },
  {
   "cell_type": "code",
   "execution_count": 9,
   "metadata": {},
   "outputs": [
    {
     "name": "stdout",
     "output_type": "stream",
     "text": [
      "\n",
      "✅ Employee by ID \n",
      "    id         name             datetime  department_id  job_id\n",
      "0   1  Harold Vogt  2021-11-07T02:48:42              2      96\n"
     ]
    }
   ],
   "source": [
    "# Endpoint de empleados por ID\n",
    "EMPLOYEE_ID = 1\n",
    "response = requests.get(f\"{BASE_URL}/employees/{EMPLOYEE_ID}\")\n",
    "employees_by_id_df = pd.json_normalize(response.json())\n",
    "# print(\"\\n✅ Employee by ID:\", json.dumps(response.json(), indent=4))\n",
    "print(\"\\n✅ Employee by ID \\n\", employees_by_id_df)"
   ]
  },
  {
   "cell_type": "code",
   "execution_count": 10,
   "metadata": {},
   "outputs": [
    {
     "name": "stdout",
     "output_type": "stream",
     "text": [
      "\n",
      "✅ Employees by Department \n",
      "       id                 name             datetime  department_id  job_id\n",
      "0     81         Caril Bewsey  2022-01-22T05:56:43              1      73\n",
      "1    175          Billy Odams  2021-02-13T21:13:22              1      59\n",
      "2    179      Wolfy Leicester  2021-02-11T23:08:12              1     137\n",
      "3    223      Malvina Camelli  2021-03-03T05:07:46              1      83\n",
      "4    227        Jeramey Pyson  2021-04-03T20:14:34              1      43\n",
      "5    246       Neddy O'Garmen  2021-06-29T18:44:50              1      85\n",
      "6    263   Eldredge Behnecken  2021-06-25T00:23:17              1     101\n",
      "7    284     Sile Alexsandrev  2021-10-25T03:10:45              1      66\n",
      "8    323           Erv Hubane  2021-05-03T12:04:54              1      14\n",
      "9    337       Rosemarie Sofe  2021-11-07T08:25:36              1     124\n",
      "10   345       Corenda Dubbin  2021-03-06T14:32:27              1     136\n",
      "11   351        Weston Rouchy  2021-10-29T06:10:25              1      26\n",
      "12   430          Zed Daymont  2021-08-31T05:39:43              1      56\n",
      "13   448           Greg Dorie  2021-04-01T04:19:05              1      47\n",
      "14   458         Norean Foker  2021-12-04T17:35:48              1      19\n",
      "15   462       Correna Samter  2021-03-02T12:02:36              1      40\n",
      "16   485          Hill Oakeby  2022-02-14T23:50:27              1      95\n",
      "17   511        Cecilia Keynd  2021-07-31T06:10:51              1     109\n",
      "18   611          Hill Anders  2021-08-25T22:24:12              1      93\n",
      "19   850     Chryste Farndell  2021-05-28T06:27:59              1      68\n",
      "20   852        Titus Shotter  2021-04-19T05:42:07              1     107\n",
      "21   860       Marin Elington  2022-02-08T10:39:02              1      68\n",
      "22   913           Moll Danat  2021-08-16T22:46:13              1       7\n",
      "23   977   Tremain Kenningley  2021-03-16T01:52:49              1      39\n",
      "24  1082         Lief Bettles  2021-05-25T00:35:53              1      44\n",
      "25  1156         Mikel Cariss  2021-05-08T14:39:59              1      98\n",
      "26  1201    Brien Constantine  2022-01-08T16:31:01              1     115\n",
      "27  1238         Odilia Danat  2022-01-28T13:42:03              1      69\n",
      "28  1240       Shandy Danjoie  2021-08-03T02:54:07              1      38\n",
      "29  1324    Janna Fearnehough  2021-08-18T18:53:09              1      37\n",
      "30  1364           Ora Fryman  2021-07-07T13:26:49              1      17\n",
      "31  1392         Cris Gladdis  2021-04-08T11:54:11              1      55\n",
      "32  1404           Chet Goves  2021-12-30T10:03:59              1      38\n",
      "33  1420      Devon Habberjam  2021-10-19T18:48:33              1      31\n",
      "34  1425          Brenn Hadye  2021-03-05T08:31:17              1       7\n",
      "35  1426   Trumaine Halburton  2021-03-12T13:18:26              1      64\n",
      "36  1428  Kristofor Hallewell  2021-05-12T20:37:50              1      47\n",
      "37  1471       Ethelda Iacomi  2021-02-07T23:47:52              1      49\n",
      "38  1532       Alfreda Kiddye  2021-07-20T16:08:08              1      56\n",
      "39  1626    Maribeth McGiffie  2021-04-06T18:16:06              1     150\n",
      "40  1651      Shirlee Muldrew  2021-09-27T11:14:02              1      36\n",
      "41  1721       Marge Paulisch  2021-07-17T20:48:43              1     109\n",
      "42  1738       Ettore Piccard  2021-11-30T14:24:17              1      54\n",
      "43  1748       Indira Pirozzi  2021-10-28T03:07:10              1     131\n",
      "44  1785      Torey Richardin  2021-05-31T15:18:58              1      59\n",
      "45  1828    Rickey Scotsbrook  2021-06-01T01:35:52              1     125\n",
      "46  1862       Yoko Sloegrave  2021-06-05T01:00:09              1      87\n",
      "47  1876       Ignacio Spence  2021-04-02T03:56:39              1     136\n",
      "48  1922      Vincents Tillot  2021-05-24T16:01:27              1      85\n",
      "49  1930      Jorrie Trytsman  2021-04-02T22:45:06              1      93\n",
      "50  1945    Lavinie Vearncomb  2021-05-11T14:47:22              1      47\n",
      "51  1948   Alexandre Vedyasov  2021-02-20T20:57:48              1     131\n",
      "52  1966       Gertrud Weaben  2022-02-02T10:24:52              1     119\n",
      "53  1972     Bridgette Wickey  2021-09-12T18:31:04              1      51\n"
     ]
    }
   ],
   "source": [
    "# Endpoint de empleados por departamento\n",
    "DEPARTMENT_ID = 1\n",
    "response = requests.get(f\"{BASE_URL}/employees/department/{DEPARTMENT_ID}\")\n",
    "employees_by_department_df = pd.DataFrame(response.json())\n",
    "# print(\"\\n✅ Employees by Department:\", json.dumps(response.json(), indent=4))\n",
    "print(\"\\n✅ Employees by Department \\n\", employees_by_department_df)"
   ]
  },
  {
   "cell_type": "code",
   "execution_count": 11,
   "metadata": {},
   "outputs": [
    {
     "name": "stdout",
     "output_type": "stream",
     "text": [
      "\n",
      "✅ Employees by Department \n",
      "      id                name             datetime  department_id  job_id\n",
      "0    73   Matthus Szymanzyk  2021-04-26T04:21:25              7       3\n",
      "1  1684  D'arcy O'Kinneally  2021-07-01T14:02:42              7       3\n"
     ]
    }
   ],
   "source": [
    "# Endpoint de empleados por trabajo\n",
    "JOB_ID = 3\n",
    "response = requests.get(f\"{BASE_URL}/employees/job/{JOB_ID}\")\n",
    "employees_by_job_df = pd.DataFrame(response.json())\n",
    "# print(\"\\n✅ Employees by Department:\", json.dumps(response.json(), indent=4))\n",
    "print(\"\\n✅ Employees by Department \\n\", employees_by_job_df)"
   ]
  },
  {
   "cell_type": "code",
   "execution_count": 12,
   "metadata": {},
   "outputs": [
    {
     "name": "stdout",
     "output_type": "stream",
     "text": [
      "\n",
      "✅ Employees per Quarter:\n",
      "      department                            job  q1  q2  q3  q4\n",
      "0    Accounting      Account Representative IV   1   0   0   0\n",
      "1    Accounting                        Actuary   0   1   0   0\n",
      "2    Accounting             Analyst Programmer   0   0   1   0\n",
      "3    Accounting  Budget/Accounting Analyst III   0   1   0   0\n",
      "4    Accounting                Cost Accountant   0   1   0   0\n",
      "..          ...                            ...  ..  ..  ..  ..\n",
      "928    Training                        Teacher   0   2   0   0\n",
      "929    Training               Technical Writer   0   0   1   0\n",
      "930    Training          VP Product Management   1   0   0   0\n",
      "931    Training             VP Quality Control   0   1   0   0\n",
      "932    Training              Web Developer III   0   1   0   0\n",
      "\n",
      "[933 rows x 6 columns]\n"
     ]
    }
   ],
   "source": [
    "response = requests.get(f\"{BASE_URL}/{DB_URL}/employees-per-quarter\")\n",
    "employees_per_quarter_df = pd.DataFrame(response.json())\n",
    "# print(\"\\n✅ Employees by Department:\", json.dumps(response.json(), indent=4))\n",
    "print(\"\\n✅ Employees per Quarter:\\n\", employees_per_quarter_df)"
   ]
  },
  {
   "cell_type": "code",
   "execution_count": 13,
   "metadata": {},
   "outputs": [
    {
     "name": "stdout",
     "output_type": "stream",
     "text": [
      "\n",
      "✅ Employees per Quarter:\n",
      "    id                department  hired\n",
      "0   8                   Support    216\n",
      "1   5               Engineering    205\n",
      "2   6           Human Resources    201\n",
      "3   7                  Services    200\n",
      "4   4      Business Development    185\n",
      "5   3  Research and Development    148\n",
      "6   9                 Marketing    142\n"
     ]
    }
   ],
   "source": [
    "response = requests.get(f\"{BASE_URL}/{DB_URL}/departments-hired-above-mean\")\n",
    "departments_hired_above_mean_df = pd.DataFrame(response.json())\n",
    "# print(\"\\n✅ Employees by Department:\", json.dumps(response.json(), indent=4))\n",
    "print(\"\\n✅ Employees per Quarter:\\n\", departments_hired_above_mean_df)"
   ]
  },
  {
   "cell_type": "code",
   "execution_count": 19,
   "metadata": {},
   "outputs": [
    {
     "name": "stdout",
     "output_type": "stream",
     "text": [
      "\n",
      "✅ Custom Query Result:\n",
      "              name             datetime                           job  \\\n",
      "0     Harold Vogt  2021-11-07T02:48:42              Health Coach III   \n",
      "1     Lyman Hadye  2021-09-01T23:27:38  Structural Analysis Engineer   \n",
      "2   Lotti Crowthe  2021-10-01T13:04:21               Statistician II   \n",
      "3  Gretna Lording  2021-10-10T22:22:17              Quality Engineer   \n",
      "4  Marlow Antecki  2021-04-23T23:45:42               Web Designer II   \n",
      "\n",
      "        department  \n",
      "0            Sales  \n",
      "1      Engineering  \n",
      "2       Accounting  \n",
      "3  Human Resources  \n",
      "4  Human Resources  \n"
     ]
    }
   ],
   "source": [
    "import urllib.parse  # Para codificar el query\n",
    "\n",
    "custom_sql = \"\"\"\n",
    "SELECT \n",
    "    he.name,\n",
    "    he.datetime,\n",
    "    j.job,\n",
    "    d.department\n",
    "FROM hired_employees he\n",
    "JOIN departments d ON he.department_id = d.id\n",
    "JOIN jobs j ON he.job_id = j.id\n",
    "limit 5\n",
    "\"\"\"\n",
    "\n",
    "encoded_query = urllib.parse.quote(custom_sql)\n",
    "\n",
    "response = requests.get(f\"{BASE_URL}/custom-query/?query={encoded_query}\")\n",
    "\n",
    "# Convertir la respuesta a DataFrame si es exitosa\n",
    "if response.status_code == 200:\n",
    "    results_df = pd.DataFrame(response.json())\n",
    "    print(\"\\n✅ Custom Query Result:\\n\", results_df)\n",
    "else:\n",
    "    print(f\"\\n❌ Error {response.status_code}: {response.text}\")"
   ]
  }
 ],
 "metadata": {
  "kernelspec": {
   "display_name": "Python 3",
   "language": "python",
   "name": "python3"
  },
  "language_info": {
   "codemirror_mode": {
    "name": "ipython",
    "version": 3
   },
   "file_extension": ".py",
   "mimetype": "text/x-python",
   "name": "python",
   "nbconvert_exporter": "python",
   "pygments_lexer": "ipython3",
   "version": "3.9.0"
  }
 },
 "nbformat": 4,
 "nbformat_minor": 2
}
